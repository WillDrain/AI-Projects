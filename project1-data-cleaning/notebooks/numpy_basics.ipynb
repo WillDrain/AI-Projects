{
 "cells": [
  {
   "cell_type": "code",
   "execution_count": 1,
   "id": "9f09cd64-6846-4676-b6c2-704fac73dc30",
   "metadata": {},
   "outputs": [
    {
     "name": "stdout",
     "output_type": "stream",
     "text": [
      "Array: [1 2 3 4 5]\n",
      "First 3 elements: [1 2 3]\n",
      "Last 2 elements: [4 5]\n",
      "3x3 Matrix:\n",
      " [[1 2 3]\n",
      " [4 5 6]\n",
      " [7 8 9]]\n",
      "Manual Dot Product: 32\n",
      "NumPy Dot Product: 32\n",
      "Match: True\n"
     ]
    }
   ],
   "source": [
    "# NumPy Basics - Day 2\n",
    "import numpy as np\n",
    "\n",
    "# 1) Create\n",
    "arr = np.array([1, 2, 3, 4, 5])\n",
    "print(\"Array:\", arr)\n",
    "\n",
    "# 2) Slice\n",
    "print(\"First 3 elements:\", arr[:3])\n",
    "print(\"Last 2 elements:\", arr[-2:])\n",
    "\n",
    "# 3) Reshape\n",
    "matrix = np.arange(1, 10).reshape(3, 3)\n",
    "print(\"3x3 Matrix:\\n\", matrix)\n",
    "\n",
    "# 4) Dot product (manual)\n",
    "v1 = np.array([1, 2, 3])\n",
    "v2 = np.array([4, 5, 6])\n",
    "manual_dot = v1[0]*v2[0] + v1[1]*v2[1] + v1[2]*v2[2]\n",
    "print(\"Manual Dot Product:\", manual_dot)\n",
    "\n",
    "# 5) Dot product (NumPy)\n",
    "numpy_dot = np.dot(v1, v2)\n",
    "print(\"NumPy Dot Product:\", numpy_dot)\n",
    "print(\"Match:\", manual_dot == numpy_dot)\n"
   ]
  }
 ],
 "metadata": {
  "kernelspec": {
   "display_name": "Python 3 (ipykernel)",
   "language": "python",
   "name": "python3"
  },
  "language_info": {
   "codemirror_mode": {
    "name": "ipython",
    "version": 3
   },
   "file_extension": ".py",
   "mimetype": "text/x-python",
   "name": "python",
   "nbconvert_exporter": "python",
   "pygments_lexer": "ipython3",
   "version": "3.11.13"
  }
 },
 "nbformat": 4,
 "nbformat_minor": 5
}
