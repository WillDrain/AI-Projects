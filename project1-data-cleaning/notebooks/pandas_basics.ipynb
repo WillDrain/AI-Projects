{
 "cells": [
  {
   "cell_type": "code",
   "execution_count": 1,
   "id": "3aa4e9a7-2dd5-4442-947d-8ba22257e460",
   "metadata": {},
   "outputs": [],
   "source": [
    "#Day 2 Panda\n",
    "import pandas as pd"
   ]
  },
  {
   "cell_type": "code",
   "execution_count": 2,
   "id": "88da8f7f-8590-4a92-9853-3c78dd231ac2",
   "metadata": {},
   "outputs": [],
   "source": [
    "# Load my CSV (relative path from notebooks/ to data/)\n",
    "df = pd.read_csv(\"../data/sample_people.csv\")"
   ]
  },
  {
   "cell_type": "code",
   "execution_count": 3,
   "id": "e85cc252-c2bc-47fa-ad98-1ecc6cdcfb66",
   "metadata": {},
   "outputs": [
    {
     "name": "stdout",
     "output_type": "stream",
     "text": [
      "Head:\n",
      "      Name  Age           City\n",
      "0    Alice   24       New York\n",
      "1      Bob   30        Chicago\n",
      "2  Charlie   22  San Francisco\n",
      "3    David   35         Boston\n"
     ]
    }
   ],
   "source": [
    "print(\"Head:\")\n",
    "print(df.head())"
   ]
  },
  {
   "cell_type": "code",
   "execution_count": 4,
   "id": "1e04af93-d7af-48b8-935d-8c94df499960",
   "metadata": {},
   "outputs": [
    {
     "name": "stdout",
     "output_type": "stream",
     "text": [
      "\n",
      "Info:\n",
      "<class 'pandas.core.frame.DataFrame'>\n",
      "RangeIndex: 4 entries, 0 to 3\n",
      "Data columns (total 3 columns):\n",
      " #   Column  Non-Null Count  Dtype \n",
      "---  ------  --------------  ----- \n",
      " 0   Name    4 non-null      object\n",
      " 1   Age     4 non-null      int64 \n",
      " 2   City    4 non-null      object\n",
      "dtypes: int64(1), object(2)\n",
      "memory usage: 228.0+ bytes\n",
      "None\n"
     ]
    }
   ],
   "source": [
    "print(\"\\nInfo:\")\n",
    "print(df.info())"
   ]
  },
  {
   "cell_type": "code",
   "execution_count": 5,
   "id": "d4092bbb-614b-48d6-9cd1-b4f1fd60a4cc",
   "metadata": {},
   "outputs": [
    {
     "name": "stdout",
     "output_type": "stream",
     "text": [
      "\n",
      "Describe (quick stats):\n",
      "         Name        Age      City\n",
      "count       4   4.000000         4\n",
      "unique      4        NaN         4\n",
      "top     Alice        NaN  New York\n",
      "freq        1        NaN         1\n",
      "mean      NaN  27.750000       NaN\n",
      "std       NaN   5.909033       NaN\n",
      "min       NaN  22.000000       NaN\n",
      "25%       NaN  23.500000       NaN\n",
      "50%       NaN  27.000000       NaN\n",
      "75%       NaN  31.250000       NaN\n",
      "max       NaN  35.000000       NaN\n"
     ]
    }
   ],
   "source": [
    "print(\"\\nDescribe (quick stats):\")\n",
    "print(df.describe(include=\"all\"))"
   ]
  }
 ],
 "metadata": {
  "kernelspec": {
   "display_name": "Python 3 (ipykernel)",
   "language": "python",
   "name": "python3"
  },
  "language_info": {
   "codemirror_mode": {
    "name": "ipython",
    "version": 3
   },
   "file_extension": ".py",
   "mimetype": "text/x-python",
   "name": "python",
   "nbconvert_exporter": "python",
   "pygments_lexer": "ipython3",
   "version": "3.11.13"
  }
 },
 "nbformat": 4,
 "nbformat_minor": 5
}
